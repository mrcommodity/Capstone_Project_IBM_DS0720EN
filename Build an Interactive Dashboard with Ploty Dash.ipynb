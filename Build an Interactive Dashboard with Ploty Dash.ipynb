{
    "cells": [
        {
            "cell_type": "code",
            "execution_count": null,
            "metadata": {
                "collapsed": true
            },
            "outputs": [],
            "source": "import pandas as pd\nimport dash\nfrom dash import html\nfrom dash import dcc\nfrom dash.dependencies import Input, Output\nimport plotly.express as px\n\n\n\n\nspacex_df = pd.read_csv(\"spacex_launch_dash.csv\")\nmax_payload = spacex_df['Payload Mass (kg)'].max()\nmin_payload = spacex_df['Payload Mass (kg)'].min()\n\n\n\n# Create a dash application\napp = dash.Dash(__name__)\n\n# Create an app layout\napp.layout = html.Div(children=[html.H1('SpaceX Launch Records Dashboard',\n                                        style={'textAlign': 'center', 'color': '#503D36',\n                                               'font-size': 40}),\n                                # TASK 1: Add a dropdown list to enable Launch Site selection\n                                # The default select value is for ALL sites\n                                dcc.Dropdown(id='site-dropdown',\n                                             options = [{'label': 'All Sites', 'value': 'ALL'},\n                                                        {'label': 'CCAFS LC-40', 'value': 'CCAFS LC-40'},\n                                                        {'label': 'CCAFS SLC-40', 'value': 'CCAFS SLC-40'},\n                                                        {'label': 'KSC LC-39A', 'value': 'KSC LC-39A'},\n                                                        {'label': 'VAFB SLC-4E', 'value': 'VAFB SLC-4E'}],\n                                             placeholder='Select a Launch Site here',\n                                             searchable=True,\n                                             value='ALL',\n                                            ),\n                                html.Br(),\n\n                                # TASK 2: Add a pie chart to show the total successful launches count for all sites\n                                # If a specific launch site was selected, show the Success vs. Failed counts for the site\n                                html.Div(dcc.Graph(id='success-pie-chart')),\n                                html.Br(),\n\n                                html.P(\"Payload range (Kg):\"),\n                                # TASK 3: Add a slider to select payload range\n                                dcc.RangeSlider(id='payload-slider',\n                                                min = 0,\n                                                max = 10000,\n                                                step = 1000,\n                                                marks={0:'0',\n                                                      2500:'2500',\n                                                      5000:'5000',\n                                                      7500:'7500',\n                                                      10000:'10000'},\n                                                value = [min_payload,max_payload]),\n                                html.Br(),\n\n                                # TASK 4: Add a scatter chart to show the correlation between payload and launch success\n                                html.Div(dcc.Graph(id='success-payload-scatter-chart')),\n                                ])\n\n# TASK 2:\n# Add a callback function for `site-dropdown` as input, `success-pie-chart` as output\n@app.callback(Output(component_id='success-pie-chart', component_property='figure'),\n              Input(component_id='site-dropdown', component_property='value'))\ndef update_chart(site_dropdown):\n    if site_dropdown == 'ALL':\n        piechart = px.pie(spacex_df, values='class', names='Launch Site')\n        return piechart\n    else:\n        filtered_df = spacex_df[spacex_df['Launch Site'] == site_dropdown].groupby(['Launch Site', 'class']).size().reset_index(name='class count')\n        piechart = px.pie(filtered_df, values='class count', names='class')\n        return piechart\n\n# TASK 4:\n# Add a callback function for `site-dropdown` and `payload-slider` as inputs, `success-payload-scatter-chart` as output\n@app.callback(Output(component_id='success-payload-scatter-chart', component_property='figure'),\n              [Input(component_id='site-dropdown', component_property='value'),\n               Input(component_id='payload-slider', component_property='value')])\n\ndef update_chart(site_dropdown, slider_range):\n    \n    filtered_df_1 = spacex_df[(slider_range[0] <= spacex_df['Payload Mass (kg)']) & (spacex_df['Payload Mass (kg)']<= slider_range[1])]\n    if site_dropdown == 'ALL':\n        scatter = px.scatter(filtered_df_1, x='Payload Mass (kg)', y='class', color=\"Booster Version Category\")\n        return scatter\n         \n    else:\n        filtered_df_2= filtered_df_1[filtered_df_1['Launch Site'] == site_dropdown]\n        scatter = px.scatter(filtered_df_2, x='Payload Mass (kg)', y='class', color=\"Booster Version Category\")\n        return scatter\n\n\n# Run the app\nif __name__ == '__main__':\n    app.run_server()"
        }
    ],
    "metadata": {
        "kernelspec": {
            "display_name": "Python 3.8",
            "language": "python",
            "name": "python3"
        },
        "language_info": {
            "codemirror_mode": {
                "name": "ipython",
                "version": 3
            },
            "file_extension": ".py",
            "mimetype": "text/x-python",
            "name": "python",
            "nbconvert_exporter": "python",
            "pygments_lexer": "ipython3",
            "version": "3.8.12"
        }
    },
    "nbformat": 4,
    "nbformat_minor": 1
}